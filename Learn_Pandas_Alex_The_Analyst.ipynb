{
  "nbformat": 4,
  "nbformat_minor": 0,
  "metadata": {
    "colab": {
      "provenance": [],
      "authorship_tag": "ABX9TyOWqOwoFrleVgKNw/BlRFwv",
      "include_colab_link": true
    },
    "kernelspec": {
      "name": "python3",
      "display_name": "Python 3"
    },
    "language_info": {
      "name": "python"
    }
  },
  "cells": [
    {
      "cell_type": "markdown",
      "metadata": {
        "id": "view-in-github",
        "colab_type": "text"
      },
      "source": [
        "<a href=\"https://colab.research.google.com/github/isaiassousa032/Pandas/blob/main/Learn_Pandas_Alex_The_Analyst.ipynb\" target=\"_parent\"><img src=\"https://colab.research.google.com/assets/colab-badge.svg\" alt=\"Open In Colab\"/></a>"
      ]
    },
    {
      "cell_type": "code",
      "execution_count": 1,
      "metadata": {
        "id": "9wCuQdebx9nr"
      },
      "outputs": [],
      "source": [
        "import pandas as pd"
      ]
    },
    {
      "cell_type": "code",
      "source": [
        "#df é de Data Frame\n",
        "df = pd.read_csv('/content/countries of the world.csv')\n",
        "df"
      ],
      "metadata": {
        "collapsed": true,
        "id": "SDAuAfWQyLJu"
      },
      "execution_count": null,
      "outputs": []
    },
    {
      "cell_type": "code",
      "source": [
        "df = pd.read_table('/content/countries of the world.txt')\n",
        "df"
      ],
      "metadata": {
        "collapsed": true,
        "id": "pp6o33712dOG"
      },
      "execution_count": null,
      "outputs": []
    },
    {
      "cell_type": "code",
      "source": [
        "df = pd.read_json('/content/json_sample.json')\n",
        "df"
      ],
      "metadata": {
        "collapsed": true,
        "id": "Mvvcdr0UBIFV"
      },
      "execution_count": null,
      "outputs": []
    },
    {
      "cell_type": "code",
      "source": [
        "df = pd.read_excel('/content/world_population_excel_workbook.xlsx')\n",
        "df"
      ],
      "metadata": {
        "id": "w9AGTxFfCYpz"
      },
      "execution_count": null,
      "outputs": []
    },
    {
      "cell_type": "code",
      "source": [
        "df = pd.read_excel('/content/world_population_excel_workbook.xlsx', sheet_name='Sheet1')\n",
        "df"
      ],
      "metadata": {
        "collapsed": true,
        "id": "7ozuLIs8BZqr"
      },
      "execution_count": null,
      "outputs": []
    },
    {
      "cell_type": "code",
      "source": [
        "#muda a visualização das tabelas para mostrar tudo ao invés de mostrar as primeiras e as ultimas linhas.\n",
        "pd.set_option('display.max.rows', 235)"
      ],
      "metadata": {
        "id": "a44L7EWqDWtw"
      },
      "execution_count": 21,
      "outputs": []
    },
    {
      "cell_type": "code",
      "source": [
        "#muda a visualização das tabelas para mostrar tudo ao invés de mostrar as primeiras e as ultimas colunas.\n",
        "pd.set_option('display.max.columns', 40)"
      ],
      "metadata": {
        "id": "7wOyIx_MD8oT"
      },
      "execution_count": 22,
      "outputs": []
    },
    {
      "cell_type": "code",
      "source": [
        "df2 = pd.read_excel('/content/world_population_excel_workbook.xlsx', sheet_name='Sheet1')\n",
        "df2"
      ],
      "metadata": {
        "id": "mZ6t7p22Dm5J"
      },
      "execution_count": null,
      "outputs": []
    },
    {
      "cell_type": "code",
      "source": [
        "df.info()"
      ],
      "metadata": {
        "id": "7yRckKH5EoYi"
      },
      "execution_count": null,
      "outputs": []
    },
    {
      "cell_type": "code",
      "source": [
        "#mostra a quantidade de linhas e colunas\n",
        "df2.shape"
      ],
      "metadata": {
        "id": "bviFQ2gyEoVo"
      },
      "execution_count": null,
      "outputs": []
    },
    {
      "cell_type": "code",
      "source": [
        "#mostra as 5 primeiras linhas\n",
        "df2.head()"
      ],
      "metadata": {
        "collapsed": true,
        "id": "v29Ds87MEoQa"
      },
      "execution_count": null,
      "outputs": []
    },
    {
      "cell_type": "code",
      "source": [
        "#mostra as 20 primeiras linhas (quantidade passada por parâmetro)\n",
        "df2.head(20)"
      ],
      "metadata": {
        "collapsed": true,
        "id": "OYryO9OoEoNt"
      },
      "execution_count": null,
      "outputs": []
    },
    {
      "cell_type": "code",
      "source": [
        "#mostra as 10 últimas linhas\n",
        "df2.tail(10)"
      ],
      "metadata": {
        "collapsed": true,
        "id": "xkxHNQr1En6t"
      },
      "execution_count": null,
      "outputs": []
    },
    {
      "cell_type": "code",
      "source": [
        "# traz apenas os dados da coluna especificada\n",
        "df2['Rank']"
      ],
      "metadata": {
        "collapsed": true,
        "id": "3MqWXR0zFxM3"
      },
      "execution_count": null,
      "outputs": []
    },
    {
      "cell_type": "code",
      "source": [
        "#usado para acessar linhas e colunas de um DataFrame com base em rótulos (labels).\n",
        "df2.loc[224]"
      ],
      "metadata": {
        "collapsed": true,
        "id": "82q0Xf93FxfS"
      },
      "execution_count": null,
      "outputs": []
    },
    {
      "cell_type": "code",
      "source": [
        "df2.iloc[224]"
      ],
      "metadata": {
        "collapsed": true,
        "id": "IesmkZ3hHPb7"
      },
      "execution_count": null,
      "outputs": []
    },
    {
      "cell_type": "code",
      "source": [
        "df = pd.read_csv('/content/world_population.csv')\n",
        "df"
      ],
      "metadata": {
        "id": "oGYLeVd_Hd8N"
      },
      "execution_count": null,
      "outputs": []
    },
    {
      "cell_type": "code",
      "source": [
        "df[df['Rank'] <= 10]"
      ],
      "metadata": {
        "id": "lv-i3IHGHd5v"
      },
      "execution_count": null,
      "outputs": []
    },
    {
      "cell_type": "code",
      "source": [
        "specific_countries = ['Bangladesh', 'Brazil']\n",
        "df[df['Country'].isin(specific_countries)]"
      ],
      "metadata": {
        "id": "3u05qpqzHd3Q"
      },
      "execution_count": null,
      "outputs": []
    },
    {
      "cell_type": "code",
      "source": [
        "df[df['Country'].str.contains('United')]"
      ],
      "metadata": {
        "id": "eHdqHUJbHd0n"
      },
      "execution_count": null,
      "outputs": []
    },
    {
      "cell_type": "code",
      "source": [],
      "metadata": {
        "id": "D1Mt13G8HdyM"
      },
      "execution_count": null,
      "outputs": []
    },
    {
      "cell_type": "code",
      "source": [],
      "metadata": {
        "id": "oLOiDXQDHdvz"
      },
      "execution_count": null,
      "outputs": []
    },
    {
      "cell_type": "code",
      "source": [],
      "metadata": {
        "id": "PPn5OWg_Hdq0"
      },
      "execution_count": null,
      "outputs": []
    },
    {
      "cell_type": "code",
      "source": [],
      "metadata": {
        "id": "hLL81_t4Hdc-"
      },
      "execution_count": null,
      "outputs": []
    },
    {
      "cell_type": "code",
      "source": [],
      "metadata": {
        "id": "tY8FTXkGHdbJ"
      },
      "execution_count": null,
      "outputs": []
    },
    {
      "cell_type": "code",
      "source": [],
      "metadata": {
        "id": "avKDS_vVHdYG"
      },
      "execution_count": null,
      "outputs": []
    },
    {
      "cell_type": "code",
      "source": [],
      "metadata": {
        "id": "ASPQMMsXHdVo"
      },
      "execution_count": null,
      "outputs": []
    },
    {
      "cell_type": "code",
      "source": [],
      "metadata": {
        "id": "36nqBJwuHdTF"
      },
      "execution_count": null,
      "outputs": []
    },
    {
      "cell_type": "code",
      "source": [],
      "metadata": {
        "id": "9mi1uqURHdQX"
      },
      "execution_count": null,
      "outputs": []
    },
    {
      "cell_type": "code",
      "source": [],
      "metadata": {
        "id": "X6MWF9u6HdNv"
      },
      "execution_count": null,
      "outputs": []
    },
    {
      "cell_type": "code",
      "source": [],
      "metadata": {
        "id": "a2XHYyPKHdLD"
      },
      "execution_count": null,
      "outputs": []
    },
    {
      "cell_type": "code",
      "source": [],
      "metadata": {
        "id": "GlJ8DLy2HdII"
      },
      "execution_count": null,
      "outputs": []
    },
    {
      "cell_type": "code",
      "source": [],
      "metadata": {
        "id": "Mo9mgIrOHdFT"
      },
      "execution_count": null,
      "outputs": []
    }
  ]
}